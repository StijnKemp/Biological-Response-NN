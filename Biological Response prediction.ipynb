{
 "cells": [
  {
   "cell_type": "code",
   "execution_count": 115,
   "metadata": {},
   "outputs": [],
   "source": [
    "import tensorflow as tf\n",
    "import numpy as np\n",
    "import pandas as pd\n",
    "\n",
    "#load training set\n",
    "train = pd.read_csv('train.csv', sep=',')\n",
    "\n",
    "#split input and output\n",
    "train_x = train.iloc[:,1:1777]\n",
    "train_y = train.iloc[:,0:1]"
   ]
  },
  {
   "cell_type": "code",
   "execution_count": 116,
   "metadata": {},
   "outputs": [],
   "source": [
    "#define model\n",
    "model = tf.keras.models.Sequential()\n",
    "model.add(tf.keras.layers.Dense(50, input_dim=1776, activation='relu'))\n",
    "model.add(tf.keras.layers.Dense(25, activation='relu'))\n",
    "model.add(tf.keras.layers.Dense(1, activation='sigmoid'))\n",
    "\n",
    "#compile model\n",
    "model.compile(loss='binary_crossentropy', optimizer='adam', metrics=['accuracy'])"
   ]
  },
  {
   "cell_type": "code",
   "execution_count": 117,
   "metadata": {},
   "outputs": [
    {
     "name": "stdout",
     "output_type": "stream",
     "text": [
      "Epoch 1/15\n",
      "3751/3751 [==============================] - 1s 193us/sample - loss: 0.6260 - acc: 0.6500\n",
      "Epoch 2/15\n",
      "3751/3751 [==============================] - 0s 57us/sample - loss: 0.5099 - acc: 0.7547\n",
      "Epoch 3/15\n",
      "3751/3751 [==============================] - 0s 58us/sample - loss: 0.4507 - acc: 0.7953\n",
      "Epoch 4/15\n",
      "3751/3751 [==============================] - 0s 63us/sample - loss: 0.4204 - acc: 0.8115\n",
      "Epoch 5/15\n",
      "3751/3751 [==============================] - 0s 74us/sample - loss: 0.3964 - acc: 0.8264\n",
      "Epoch 6/15\n",
      "3751/3751 [==============================] - 0s 72us/sample - loss: 0.3668 - acc: 0.8390\n",
      "Epoch 7/15\n",
      "3751/3751 [==============================] - 0s 57us/sample - loss: 0.3600 - acc: 0.8446\n",
      "Epoch 8/15\n",
      "3751/3751 [==============================] - 0s 56us/sample - loss: 0.3347 - acc: 0.8587\n",
      "Epoch 9/15\n",
      "3751/3751 [==============================] - 0s 56us/sample - loss: 0.3149 - acc: 0.8680\n",
      "Epoch 10/15\n",
      "3751/3751 [==============================] - 0s 56us/sample - loss: 0.3003 - acc: 0.8718\n",
      "Epoch 11/15\n",
      "3751/3751 [==============================] - 0s 59us/sample - loss: 0.2877 - acc: 0.8819\n",
      "Epoch 12/15\n",
      "3751/3751 [==============================] - 0s 57us/sample - loss: 0.2746 - acc: 0.8880\n",
      "Epoch 13/15\n",
      "3751/3751 [==============================] - 0s 56us/sample - loss: 0.2627 - acc: 0.8955\n",
      "Epoch 14/15\n",
      "3751/3751 [==============================] - 0s 56us/sample - loss: 0.2459 - acc: 0.9008\n",
      "Epoch 15/15\n",
      "3751/3751 [==============================] - 0s 56us/sample - loss: 0.2299 - acc: 0.9096\n",
      "3751/3751 [==============================] - 0s 112us/sample - loss: 0.2038 - acc: 0.9230\n",
      "Accuracy: 92.30\n"
     ]
    }
   ],
   "source": [
    "#fit model\n",
    "model.fit(train_x, train_y, epochs=15, batch_size=120)\n",
    "\n",
    "#evaluate\n",
    "_, accuracy = model.evaluate(train_x, train_y)\n",
    "print('Accuracy: %.2f' % (accuracy*100))"
   ]
  },
  {
   "cell_type": "code",
   "execution_count": 118,
   "metadata": {},
   "outputs": [
    {
     "name": "stdout",
     "output_type": "stream",
     "text": [
      "      MoleculeId  PredictedProbability\n",
      "0              1              0.982807\n",
      "1              2              0.999544\n",
      "2              3              0.533668\n",
      "3              4              0.990385\n",
      "4              5              0.006932\n",
      "5              6              0.649487\n",
      "6              7              0.975093\n",
      "7              8              0.978025\n",
      "8              9              0.927895\n",
      "9             10              0.639520\n",
      "10            11              0.359844\n",
      "11            12              0.873388\n",
      "12            13              0.820152\n",
      "13            14              0.532235\n",
      "14            15              0.025912\n",
      "15            16              0.197021\n",
      "16            17              0.135439\n",
      "17            18              0.018610\n",
      "18            19              0.504394\n",
      "19            20              0.995063\n",
      "20            21              0.061216\n",
      "21            22              0.982015\n",
      "22            23              0.971641\n",
      "23            24              0.999658\n",
      "24            25              0.999996\n",
      "25            26              0.898975\n",
      "26            27              0.017030\n",
      "27            28              0.092666\n",
      "28            29              0.040459\n",
      "29            30              0.757747\n",
      "...          ...                   ...\n",
      "2471        2472              0.791427\n",
      "2472        2473              0.917509\n",
      "2473        2474              0.151556\n",
      "2474        2475              0.392980\n",
      "2475        2476              0.999474\n",
      "2476        2477              0.014405\n",
      "2477        2478              0.031113\n",
      "2478        2479              0.623182\n",
      "2479        2480              0.990517\n",
      "2480        2481              0.030479\n",
      "2481        2482              0.709145\n",
      "2482        2483              0.100452\n",
      "2483        2484              0.032234\n",
      "2484        2485              0.875323\n",
      "2485        2486              0.999956\n",
      "2486        2487              0.107556\n",
      "2487        2488              0.731126\n",
      "2488        2489              0.961664\n",
      "2489        2490              0.275658\n",
      "2490        2491              0.925881\n",
      "2491        2492              0.999958\n",
      "2492        2493              0.989392\n",
      "2493        2494              0.048185\n",
      "2494        2495              0.986980\n",
      "2495        2496              0.169026\n",
      "2496        2497              0.497209\n",
      "2497        2498              0.065549\n",
      "2498        2499              0.985730\n",
      "2499        2500              0.820492\n",
      "2500        2501              0.693384\n",
      "\n",
      "[2501 rows x 2 columns]\n"
     ]
    }
   ],
   "source": [
    "#load test set\n",
    "test = pd.read_csv('test.csv', sep=',')\n",
    "\n",
    "#predict on test set\n",
    "predictions = model.predict(test)\n",
    "\n",
    "#prepare predictions for converting to csv submission file\n",
    "predictions = pd.DataFrame(predictions)\n",
    "predictions = predictions.reset_index()\n",
    "predictions['index'] = range(1, len(predictions) + 1)\n",
    "predictions.columns = ['MoleculeId', 'PredictedProbability']\n",
    "\n",
    "#convert df to csv\n",
    "predictions.to_csv('submission.csv', index=None, header=True)\n",
    "\n",
    "print(predictions)"
   ]
  },
  {
   "cell_type": "code",
   "execution_count": null,
   "metadata": {},
   "outputs": [],
   "source": []
  }
 ],
 "metadata": {
  "kernelspec": {
   "display_name": "Python 3",
   "language": "python",
   "name": "python3"
  },
  "language_info": {
   "codemirror_mode": {
    "name": "ipython",
    "version": 3
   },
   "file_extension": ".py",
   "mimetype": "text/x-python",
   "name": "python",
   "nbconvert_exporter": "python",
   "pygments_lexer": "ipython3",
   "version": "3.6.8"
  }
 },
 "nbformat": 4,
 "nbformat_minor": 2
}
